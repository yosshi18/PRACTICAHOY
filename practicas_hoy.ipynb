{
  "nbformat": 4,
  "nbformat_minor": 0,
  "metadata": {
    "colab": {
      "provenance": [],
      "authorship_tag": "ABX9TyNGRQncs7bH8oRgP87eNWQV",
      "include_colab_link": true
    },
    "kernelspec": {
      "name": "python3",
      "display_name": "Python 3"
    },
    "language_info": {
      "name": "python"
    }
  },
  "cells": [
    {
      "cell_type": "markdown",
      "metadata": {
        "id": "view-in-github",
        "colab_type": "text"
      },
      "source": [
        "<a href=\"https://colab.research.google.com/github/yosshi18/PRACTICAHOY/blob/main/practicas_hoy.ipynb\" target=\"_parent\"><img src=\"https://colab.research.google.com/assets/colab-badge.svg\" alt=\"Open In Colab\"/></a>"
      ]
    },
    {
      "cell_type": "markdown",
      "source": [
        "IMPORTA LIBRERIAS"
      ],
      "metadata": {
        "id": "i5ga3CYyfx9O"
      }
    },
    {
      "cell_type": "code",
      "source": [
        "import numpy as np\n",
        "import pandas as pd\n",
        "from io import StringIO\n",
        "import matplotlib.pyplot as plt"
      ],
      "metadata": {
        "id": "Q-nFGXNjpOpf"
      },
      "execution_count": 21,
      "outputs": []
    },
    {
      "cell_type": "markdown",
      "source": [
        "ejercicio 1"
      ],
      "metadata": {
        "id": "5fsvKYhnpS_E"
      }
    },
    {
      "cell_type": "code",
      "source": [
        "# Crear un vector de números enteros del 1 al 20\n",
        "vector_1_20 = np.arange(1, 21)\n",
        "print(f\"Vector del 1 al 20:\\n{vector_1_20}\")"
      ],
      "metadata": {
        "colab": {
          "base_uri": "https://localhost:8080/"
        },
        "id": "pi8mR9OVpU7t",
        "outputId": "172d3ecc-92f7-4421-e170-3cd1f4e47620"
      },
      "execution_count": 22,
      "outputs": [
        {
          "output_type": "stream",
          "name": "stdout",
          "text": [
            "Vector del 1 al 20:\n",
            "[ 1  2  3  4  5  6  7  8  9 10 11 12 13 14 15 16 17 18 19 20]\n"
          ]
        }
      ]
    },
    {
      "cell_type": "code",
      "source": [
        "# Crear una matriz de 3x3 con valores aleatorios entre 0 y 1\n",
        "matriz_3x3 = np.random.rand(3, 3)\n",
        "print(f\"\\nMatriz 3x3 aleatoria (0-1):\\n{matriz_3x3}\")"
      ],
      "metadata": {
        "colab": {
          "base_uri": "https://localhost:8080/"
        },
        "id": "FTer7kF-pYGO",
        "outputId": "7703d886-d6a3-44bc-d093-a3562849ceb6"
      },
      "execution_count": 23,
      "outputs": [
        {
          "output_type": "stream",
          "name": "stdout",
          "text": [
            "\n",
            "Matriz 3x3 aleatoria (0-1):\n",
            "[[0.06505159 0.94888554 0.96563203]\n",
            " [0.80839735 0.30461377 0.09767211]\n",
            " [0.68423303 0.44015249 0.12203823]]\n"
          ]
        }
      ]
    },
    {
      "cell_type": "code",
      "source": [
        " #Redimensionar matriz 4x4 a 2x8\n",
        "matriz_4x4 = np.random.rand(4, 4)\n",
        "matriz_2x8 = matriz_4x4.reshape(2, 8)\n",
        "print(f\"\\nMatriz 4x4 original:\\n{matriz_4x4}\")\n",
        "print(f\"\\nMatriz redimensionada a 2x8:\\n{matriz_2x8}\")"
      ],
      "metadata": {
        "colab": {
          "base_uri": "https://localhost:8080/"
        },
        "id": "sR566poupa4O",
        "outputId": "71fbd4f7-1854-4e37-d3d7-69d23fe82a7f"
      },
      "execution_count": 24,
      "outputs": [
        {
          "output_type": "stream",
          "name": "stdout",
          "text": [
            "\n",
            "Matriz 4x4 original:\n",
            "[[0.49517691 0.03438852 0.9093204  0.25877998]\n",
            " [0.66252228 0.31171108 0.52006802 0.54671028]\n",
            " [0.18485446 0.96958463 0.77513282 0.93949894]\n",
            " [0.89482735 0.59789998 0.92187424 0.0884925 ]]\n",
            "\n",
            "Matriz redimensionada a 2x8:\n",
            "[[0.49517691 0.03438852 0.9093204  0.25877998 0.66252228 0.31171108\n",
            "  0.52006802 0.54671028]\n",
            " [0.18485446 0.96958463 0.77513282 0.93949894 0.89482735 0.59789998\n",
            "  0.92187424 0.0884925 ]]\n"
          ]
        }
      ]
    },
    {
      "cell_type": "code",
      "source": [
        "# Array de 10 números equidistantes entre 0 y 1\n",
        "array_equidistante = np.linspace(0, 1, 10)\n",
        "print(f\"\\nArray de 10 números equidistantes (0-1):\\n{array_equidistante}\")"
      ],
      "metadata": {
        "colab": {
          "base_uri": "https://localhost:8080/"
        },
        "id": "epfAJAz3penO",
        "outputId": "eb0f8871-be16-4d69-86fc-0954ff4505e6"
      },
      "execution_count": 25,
      "outputs": [
        {
          "output_type": "stream",
          "name": "stdout",
          "text": [
            "\n",
            "Array de 10 números equidistantes (0-1):\n",
            "[0.         0.11111111 0.22222222 0.33333333 0.44444444 0.55555556\n",
            " 0.66666667 0.77777778 0.88888889 1.        ]\n"
          ]
        }
      ]
    },
    {
      "cell_type": "code",
      "source": [
        " #Concatenar vectores vertical y horizontalmente\n",
        "vector_a = np.array([1, 2, 3])\n",
        "vector_b = np.array([4, 5, 6])\n",
        "concatenacion_vertical = np.vstack((vector_a, vector_b))\n",
        "concatenacion_horizontal = np.hstack((vector_a, vector_b))\n",
        "print(f\"\\nVector A: {vector_a}\")\n",
        "print(f\"Vector B: {vector_b}\")\n",
        "print(f\"Concatenación vertical:\\n{concatenacion_vertical}\")\n",
        "print(f\"Concatenación horizontal: {concatenacion_horizontal}\")\n",
        "\n",
        "print(\"\\n\" + \"=\"*80 + \"\\n\")"
      ],
      "metadata": {
        "colab": {
          "base_uri": "https://localhost:8080/"
        },
        "id": "iG84in8RphH9",
        "outputId": "29a69245-c83b-4fc2-e66c-4ac31aa7875d"
      },
      "execution_count": 26,
      "outputs": [
        {
          "output_type": "stream",
          "name": "stdout",
          "text": [
            "\n",
            "Vector A: [1 2 3]\n",
            "Vector B: [4 5 6]\n",
            "Concatenación vertical:\n",
            "[[1 2 3]\n",
            " [4 5 6]]\n",
            "Concatenación horizontal: [1 2 3 4 5 6]\n",
            "\n",
            "================================================================================\n",
            "\n"
          ]
        }
      ]
    },
    {
      "cell_type": "markdown",
      "source": [
        "ejercicios 2"
      ],
      "metadata": {
        "id": "EKlZK4NIpl5l"
      }
    },
    {
      "cell_type": "code",
      "source": [
        "# Vectores para operaciones\n",
        "vec1 = np.array([10, 20, 30, 40])\n",
        "vec2 = np.array([1, 2, 3, 4])\n",
        "\n",
        "print(f\"Vector 1: {vec1}\")\n",
        "print(f\"Vector 2: {vec2}\")\n",
        "print(f\"Suma: {vec1 + vec2}\")\n",
        "print(f\"Resta: {vec1 - vec2}\")\n",
        "print(f\"Multiplicación: {vec1 * vec2}\")\n",
        "print(f\"División: {vec1 / vec2}\")\n"
      ],
      "metadata": {
        "colab": {
          "base_uri": "https://localhost:8080/"
        },
        "id": "n6QpU3qIpnY-",
        "outputId": "f611c8b5-7d86-4c9e-aea0-054c56a445f5"
      },
      "execution_count": 27,
      "outputs": [
        {
          "output_type": "stream",
          "name": "stdout",
          "text": [
            "Vector 1: [10 20 30 40]\n",
            "Vector 2: [1 2 3 4]\n",
            "Suma: [11 22 33 44]\n",
            "Resta: [ 9 18 27 36]\n",
            "Multiplicación: [ 10  40  90 160]\n",
            "División: [10. 10. 10. 10.]\n"
          ]
        }
      ]
    },
    {
      "cell_type": "code",
      "source": [
        "#Estadísticas de un vector\n",
        "vector_stats = np.array([1, 5, 3, 8, 2, 9, 4, 7, 6])\n",
        "print(f\"\\nVector para estadísticas: {vector_stats}\")\n",
        "print(f\"Media: {np.mean(vector_stats):.2f}\")\n",
        "print(f\"Mediana: {np.median(vector_stats):.2f}\")\n",
        "print(f\"Desviación estándar: {np.std(vector_stats):.2f}\")"
      ],
      "metadata": {
        "colab": {
          "base_uri": "https://localhost:8080/"
        },
        "id": "13LKO588pqjN",
        "outputId": "ab99c322-8b86-413f-c030-c66eb13c5bd5"
      },
      "execution_count": 28,
      "outputs": [
        {
          "output_type": "stream",
          "name": "stdout",
          "text": [
            "\n",
            "Vector para estadísticas: [1 5 3 8 2 9 4 7 6]\n",
            "Media: 5.00\n",
            "Mediana: 5.00\n",
            "Desviación estándar: 2.58\n"
          ]
        }
      ]
    },
    {
      "cell_type": "code",
      "source": [
        "# Normalizar vector\n",
        "vector_normalizado = vector_stats / np.max(vector_stats)\n",
        "print(f\"Vector normalizado: {vector_normalizado}\")"
      ],
      "metadata": {
        "colab": {
          "base_uri": "https://localhost:8080/"
        },
        "id": "bssPkDOCq7mt",
        "outputId": "8e6943d1-9e7e-4c3f-ea26-83ab03fb265a"
      },
      "execution_count": 29,
      "outputs": [
        {
          "output_type": "stream",
          "name": "stdout",
          "text": [
            "Vector normalizado: [0.11111111 0.55555556 0.33333333 0.88888889 0.22222222 1.\n",
            " 0.44444444 0.77777778 0.66666667]\n"
          ]
        }
      ]
    },
    {
      "cell_type": "code",
      "source": [
        "#Índices de máximo y mínimo\n",
        "print(f\"Índice del valor máximo: {np.argmax(vector_stats)}\")\n",
        "print(f\"Índice del valor mínimo: {np.argmin(vector_stats)}\")"
      ],
      "metadata": {
        "colab": {
          "base_uri": "https://localhost:8080/"
        },
        "id": "Kl4jj-mlq-5L",
        "outputId": "5193bd97-d760-4d89-c665-92eb436c1814"
      },
      "execution_count": 30,
      "outputs": [
        {
          "output_type": "stream",
          "name": "stdout",
          "text": [
            "Índice del valor máximo: 5\n",
            "Índice del valor mínimo: 0\n"
          ]
        }
      ]
    },
    {
      "cell_type": "code",
      "source": [
        "# Multiplicación matricial\n",
        "matriz_a = np.array([[1, 2, 3], [4, 5, 6], [7, 8, 9]])\n",
        "matriz_b = np.array([[9, 8, 7], [6, 5, 4], [3, 2, 1]])\n",
        "multiplicacion_matricial = np.dot(matriz_a, matriz_b)\n",
        "print(f\"\\nMatriz A:\\n{matriz_a}\")\n",
        "print(f\"Matriz B:\\n{matriz_b}\")\n",
        "print(f\"Multiplicación matricial A·B:\\n{multiplicacion_matricial}\")\n",
        "\n",
        "print(\"\\n\" + \"=\"*80 + \"\\n\")"
      ],
      "metadata": {
        "colab": {
          "base_uri": "https://localhost:8080/"
        },
        "id": "Lg_ZwVW5rCrc",
        "outputId": "3300543e-c21a-4759-89ea-e0b11251a26b"
      },
      "execution_count": 31,
      "outputs": [
        {
          "output_type": "stream",
          "name": "stdout",
          "text": [
            "\n",
            "Matriz A:\n",
            "[[1 2 3]\n",
            " [4 5 6]\n",
            " [7 8 9]]\n",
            "Matriz B:\n",
            "[[9 8 7]\n",
            " [6 5 4]\n",
            " [3 2 1]]\n",
            "Multiplicación matricial A·B:\n",
            "[[ 30  24  18]\n",
            " [ 84  69  54]\n",
            " [138 114  90]]\n",
            "\n",
            "================================================================================\n",
            "\n"
          ]
        }
      ]
    },
    {
      "cell_type": "markdown",
      "source": [
        "ejercicio 3"
      ],
      "metadata": {
        "id": "t7XFqKGFrHIV"
      }
    },
    {
      "cell_type": "code",
      "source": [
        "# Vector para filtros\n",
        "vector_filtro = np.array([1, 8, 3, 15, 0, -2, 7, 12, -5, 20])\n",
        "print(f\"Vector original: {vector_filtro}\")"
      ],
      "metadata": {
        "colab": {
          "base_uri": "https://localhost:8080/"
        },
        "id": "5y3_IRP5rIhe",
        "outputId": "481755fa-05de-4172-8c43-d62fa40c1237"
      },
      "execution_count": 32,
      "outputs": [
        {
          "output_type": "stream",
          "name": "stdout",
          "text": [
            "Vector original: [ 1  8  3 15  0 -2  7 12 -5 20]\n"
          ]
        }
      ]
    },
    {
      "cell_type": "code",
      "source": [
        "# Elementos pares\n",
        "elementos_pares = vector_filtro[vector_filtro % 2 == 0]\n",
        "print(f\"Elementos pares: {elementos_pares}\")"
      ],
      "metadata": {
        "colab": {
          "base_uri": "https://localhost:8080/"
        },
        "id": "8j5lPsZwrK_d",
        "outputId": "0c7bb705-2d4f-41a7-9e04-2fafee6f7bcc"
      },
      "execution_count": 33,
      "outputs": [
        {
          "output_type": "stream",
          "name": "stdout",
          "text": [
            "Elementos pares: [ 8  0 -2 12 20]\n"
          ]
        }
      ]
    },
    {
      "cell_type": "code",
      "source": [
        "# Filtrar valores mayores que 5\n",
        "mayores_5 = vector_filtro[vector_filtro > 5]\n",
        "print(f\"Valores mayores que 5: {mayores_5}\")"
      ],
      "metadata": {
        "colab": {
          "base_uri": "https://localhost:8080/"
        },
        "id": "u9APQFhcrN4A",
        "outputId": "4b5dd9fe-9dbb-4690-d21b-646c7f9b0694"
      },
      "execution_count": 34,
      "outputs": [
        {
          "output_type": "stream",
          "name": "stdout",
          "text": [
            "Valores mayores que 5: [ 8 15  7 12 20]\n"
          ]
        }
      ]
    },
    {
      "cell_type": "code",
      "source": [
        "# Filtrar valores iguales a cero\n",
        "iguales_cero = vector_filtro[vector_filtro == 0]\n",
        "print(f\"Valores iguales a cero: {iguales_cero}\")"
      ],
      "metadata": {
        "colab": {
          "base_uri": "https://localhost:8080/"
        },
        "id": "5wPBcXPvrQ8u",
        "outputId": "04176a33-38aa-4693-ef0a-b576a310db5f"
      },
      "execution_count": 35,
      "outputs": [
        {
          "output_type": "stream",
          "name": "stdout",
          "text": [
            "Valores iguales a cero: [0]\n"
          ]
        }
      ]
    },
    {
      "cell_type": "code",
      "source": [
        "# Filtrar valores negativos\n",
        "valores_negativos = vector_filtro[vector_filtro < 0]\n",
        "print(f\"Valores negativos: {valores_negativos}\")"
      ],
      "metadata": {
        "colab": {
          "base_uri": "https://localhost:8080/"
        },
        "id": "Z_zf0xtPrXou",
        "outputId": "6a17e66e-b1a2-46bd-d0c4-ec9235801616"
      },
      "execution_count": 36,
      "outputs": [
        {
          "output_type": "stream",
          "name": "stdout",
          "text": [
            "Valores negativos: [-2 -5]\n"
          ]
        }
      ]
    },
    {
      "cell_type": "code",
      "source": [
        "#Aplicar la media a valores mayores de 50\n",
        "vector_grande = np.array([30, 60, 45, 75, 20, 85, 40, 90])\n",
        "valores_mayores_50 = vector_grande[vector_grande > 50]\n",
        "media_mayores_50 = np.mean(valores_mayores_50) if len(valores_mayores_50) > 0 else 0\n",
        "print(f\"\\nVector: {vector_grande}\")\n",
        "print(f\"Valores mayores que 50: {valores_mayores_50}\")\n",
        "print(f\"Media de valores > 50: {media_mayores_50:.2f}\")\n",
        "\n",
        "print(\"\\n\" + \"=\"*80 + \"\\n\")\n"
      ],
      "metadata": {
        "colab": {
          "base_uri": "https://localhost:8080/"
        },
        "id": "41q6U_89raDt",
        "outputId": "1dd7cf3e-8c54-4297-d700-2a107955ed47"
      },
      "execution_count": 38,
      "outputs": [
        {
          "output_type": "stream",
          "name": "stdout",
          "text": [
            "\n",
            "Vector: [30 60 45 75 20 85 40 90]\n",
            "Valores mayores que 50: [60 75 85 90]\n",
            "Media de valores > 50: 77.50\n",
            "\n",
            "================================================================================\n",
            "\n"
          ]
        }
      ]
    },
    {
      "cell_type": "markdown",
      "source": [
        "ejercicios 4"
      ],
      "metadata": {
        "id": "125GUwxFrfZF"
      }
    },
    {
      "cell_type": "code",
      "source": [
        "# Vector de 10 elementos, reemplazar valores > 5 con 0\n",
        "vector_reemplazo = np.array([2, 8, 4, 9, 1, 6, 3, 7, 5, 10])\n",
        "print(f\"Vector original: {vector_reemplazo}\")\n",
        "vector_reemplazo_copia = vector_reemplazo.copy()\n",
        "vector_reemplazo_copia[vector_reemplazo_copia > 5] = 0\n",
        "print(f\"Valores > 5 reemplazados por 0: {vector_reemplazo_copia}\")"
      ],
      "metadata": {
        "colab": {
          "base_uri": "https://localhost:8080/"
        },
        "id": "UQnEiY4Lrh2O",
        "outputId": "defb683f-97ad-4625-fb1c-55c807af9edb"
      },
      "execution_count": 39,
      "outputs": [
        {
          "output_type": "stream",
          "name": "stdout",
          "text": [
            "Vector original: [ 2  8  4  9  1  6  3  7  5 10]\n",
            "Valores > 5 reemplazados por 0: [2 0 4 0 1 0 3 0 5 0]\n"
          ]
        }
      ]
    },
    {
      "cell_type": "code",
      "source": [
        "# Combinar vectores booleanos con AND y OR\n",
        "bool_vec1 = np.array([True, False, True, False, True])\n",
        "bool_vec2 = np.array([False, True, True, False, False])\n",
        "print(f\"\\nVector booleano 1: {bool_vec1}\")\n",
        "print(f\"Vector booleano 2: {bool_vec2}\")\n",
        "print(f\"AND lógico: {np.logical_and(bool_vec1, bool_vec2)}\")\n",
        "print(f\"OR lógico: {np.logical_or(bool_vec1, bool_vec2)}\")"
      ],
      "metadata": {
        "colab": {
          "base_uri": "https://localhost:8080/"
        },
        "id": "mWE01NrsrlnO",
        "outputId": "ba783735-123d-45f4-c0d5-b2e5422104d2"
      },
      "execution_count": 40,
      "outputs": [
        {
          "output_type": "stream",
          "name": "stdout",
          "text": [
            "\n",
            "Vector booleano 1: [ True False  True False  True]\n",
            "Vector booleano 2: [False  True  True False False]\n",
            "AND lógico: [False False  True False False]\n",
            "OR lógico: [ True  True  True False  True]\n"
          ]
        }
      ]
    },
    {
      "cell_type": "code",
      "source": [
        "# Contar múltiplos de 3\n",
        "vector_multiplos = np.array([3, 7, 9, 12, 5, 15, 8, 21, 4, 18])\n",
        "multiplos_3 = vector_multiplos[vector_multiplos % 3 == 0]\n",
        "print(f\"\\nVector: {vector_multiplos}\")\n",
        "print(f\"Múltiplos de 3: {multiplos_3}\")\n",
        "print(f\"Cantidad de múltiplos de 3: {len(multiplos_3)}\")"
      ],
      "metadata": {
        "colab": {
          "base_uri": "https://localhost:8080/"
        },
        "id": "bZ-GOxiWroqO",
        "outputId": "90daf581-d2b9-4d8a-d468-8f09693b80de"
      },
      "execution_count": 41,
      "outputs": [
        {
          "output_type": "stream",
          "name": "stdout",
          "text": [
            "\n",
            "Vector: [ 3  7  9 12  5 15  8 21  4 18]\n",
            "Múltiplos de 3: [ 3  9 12 15 21 18]\n",
            "Cantidad de múltiplos de 3: 6\n"
          ]
        }
      ]
    },
    {
      "cell_type": "code",
      "source": [
        "# Índices de elementos no nulos\n",
        "vector_con_nulos = np.array([1, 0, 5, 0, 3, 7, 0, 9])\n",
        "indices_no_nulos = np.nonzero(vector_con_nulos)[0]\n",
        "print(f\"\\nVector con ceros: {vector_con_nulos}\")\n",
        "print(f\"Índices de elementos no nulos: {indices_no_nulos}\")"
      ],
      "metadata": {
        "colab": {
          "base_uri": "https://localhost:8080/"
        },
        "id": "wlao0pAkrrOd",
        "outputId": "cd9cb72a-1369-4a0d-f8d7-1608f94269f6"
      },
      "execution_count": 45,
      "outputs": [
        {
          "output_type": "stream",
          "name": "stdout",
          "text": [
            "\n",
            "Vector con ceros: [1 0 5 0 3 7 0 9]\n",
            "Índices de elementos no nulos: [0 2 4 5 7]\n"
          ]
        }
      ]
    },
    {
      "cell_type": "code",
      "source": [
        "# Comprobar si todos los elementos son mayores que un valor\n",
        "valor_comparacion = 2\n",
        "todos_mayores = np.all(vector_con_nulos > valor_comparacion)\n",
        "print(f\"¿Todos los elementos > {valor_comparacion}?: {todos_mayores}\")\n",
        "\n",
        "print(\"\\n\" + \"=\"*80 + \"\\n\")"
      ],
      "metadata": {
        "colab": {
          "base_uri": "https://localhost:8080/"
        },
        "id": "_U3LVlOZrvsv",
        "outputId": "2dc26d92-d4ed-4d54-cf6e-f8d13df031e3"
      },
      "execution_count": 44,
      "outputs": [
        {
          "output_type": "stream",
          "name": "stdout",
          "text": [
            "¿Todos los elementos > 2?: False\n",
            "\n",
            "================================================================================\n",
            "\n"
          ]
        }
      ]
    },
    {
      "cell_type": "markdown",
      "source": [
        "EJERCICIO 5"
      ],
      "metadata": {
        "id": "6R4B2DM2ryeE"
      }
    },
    {
      "cell_type": "code",
      "source": [
        "# Vector para funciones matemáticas\n",
        "vector_math = np.array([1, 4, 9, 16, 25])\n",
        "print(f\"Vector original: {vector_math}\")"
      ],
      "metadata": {
        "colab": {
          "base_uri": "https://localhost:8080/"
        },
        "id": "5X8biLe5r37d",
        "outputId": "a3212510-c388-4a78-dbc6-2cf41447325d"
      },
      "execution_count": 46,
      "outputs": [
        {
          "output_type": "stream",
          "name": "stdout",
          "text": [
            "Vector original: [ 1  4  9 16 25]\n"
          ]
        }
      ]
    },
    {
      "cell_type": "code",
      "source": [
        "# Cuadrado de cada elemento\n",
        "cuadrados = vector_math ** 2\n",
        "print(f\"Cuadrados: {cuadrados}\")"
      ],
      "metadata": {
        "colab": {
          "base_uri": "https://localhost:8080/"
        },
        "id": "m2Avi7K4sDh-",
        "outputId": "4765c23f-0d94-4d3c-f73d-505f72c55ac8"
      },
      "execution_count": 47,
      "outputs": [
        {
          "output_type": "stream",
          "name": "stdout",
          "text": [
            "Cuadrados: [  1  16  81 256 625]\n"
          ]
        }
      ]
    },
    {
      "cell_type": "code",
      "source": [
        "# Función exponencial\n",
        "exponencial = np.exp(np.array([1, 2, 3, 4, 5]))\n",
        "print(f\"e^[1,2,3,4,5]: {exponencial}\")"
      ],
      "metadata": {
        "colab": {
          "base_uri": "https://localhost:8080/"
        },
        "id": "AAJyktYqsH4-",
        "outputId": "b474b4b7-fc90-48f5-dc67-9643dbaee9c9"
      },
      "execution_count": 48,
      "outputs": [
        {
          "output_type": "stream",
          "name": "stdout",
          "text": [
            "e^[1,2,3,4,5]: [  2.71828183   7.3890561   20.08553692  54.59815003 148.4131591 ]\n"
          ]
        }
      ]
    },
    {
      "cell_type": "code",
      "source": [
        "# Elevar todos los elementos a la misma potencia\n",
        "vector_potencia = np.array([2, 3, 4, 5])\n",
        "potencia_3 = vector_potencia ** 3\n",
        "print(f\"Vector {vector_potencia} elevado al cubo: {potencia_3}\")"
      ],
      "metadata": {
        "colab": {
          "base_uri": "https://localhost:8080/"
        },
        "id": "1Q-1P0EjsKgO",
        "outputId": "7271648a-05c5-4075-eedb-5f4407ba09cb"
      },
      "execution_count": 49,
      "outputs": [
        {
          "output_type": "stream",
          "name": "stdout",
          "text": [
            "Vector [2 3 4 5] elevado al cubo: [  8  27  64 125]\n"
          ]
        }
      ]
    },
    {
      "cell_type": "code",
      "source": [
        "# Encontrar valores máximos y mínimos en filas de matriz\n",
        "matriz_max_min = np.array([[1, 8, 3], [4, 2, 9], [7, 5, 6]])\n",
        "print(f\"\\nMatriz:\\n{matriz_max_min}\")\n",
        "print(f\"Máximo por fila: {np.max(matriz_max_min, axis=1)}\")\n",
        "print(f\"Mínimo por fila: {np.min(matriz_max_min, axis=1)}\")"
      ],
      "metadata": {
        "colab": {
          "base_uri": "https://localhost:8080/"
        },
        "id": "f5VRFx-6sMpe",
        "outputId": "0b32d841-9981-42e8-c94d-18e55d4d0e58"
      },
      "execution_count": 50,
      "outputs": [
        {
          "output_type": "stream",
          "name": "stdout",
          "text": [
            "\n",
            "Matriz:\n",
            "[[1 8 3]\n",
            " [4 2 9]\n",
            " [7 5 6]]\n",
            "Máximo por fila: [8 9 7]\n",
            "Mínimo por fila: [1 2 5]\n"
          ]
        }
      ]
    },
    {
      "cell_type": "code",
      "source": [
        "# Aplicar función sin a vector y almacenar resultado\n",
        "vector_sin = np.array([0, np.pi/6, np.pi/4, np.pi/3, np.pi/2])\n",
        "resultado_sin = np.sin(vector_sin)\n",
        "print(f\"\\nVector [0, π/6, π/4, π/3, π/2]: {vector_sin}\")\n",
        "print(f\"Seno del vector: {resultado_sin}\")"
      ],
      "metadata": {
        "colab": {
          "base_uri": "https://localhost:8080/"
        },
        "id": "aTzTZOuJsPAP",
        "outputId": "bc02d5d2-fc85-4419-b6fd-766297d69dd2"
      },
      "execution_count": 51,
      "outputs": [
        {
          "output_type": "stream",
          "name": "stdout",
          "text": [
            "\n",
            "Vector [0, π/6, π/4, π/3, π/2]: [0.         0.52359878 0.78539816 1.04719755 1.57079633]\n",
            "Seno del vector: [0.         0.5        0.70710678 0.8660254  1.        ]\n"
          ]
        }
      ]
    },
    {
      "cell_type": "code",
      "source": [
        "# Transpuesta de matriz 3x4\n",
        "matriz_3x4 = np.array([[1, 2, 3, 4], [5, 6, 7, 8], [9, 10, 11, 12]])\n",
        "transpuesta = matriz_3x4.T\n",
        "print(f\"\\nMatriz 3x4:\\n{matriz_3x4}\")\n",
        "print(f\"Transpuesta (4x3):\\n{transpuesta}\")\n",
        "\n",
        "print(\"\\n\" + \"=\"*80 + \"\\n\")"
      ],
      "metadata": {
        "colab": {
          "base_uri": "https://localhost:8080/"
        },
        "id": "N_Uc45t7sRUv",
        "outputId": "1e648904-f68b-4f51-e9be-a72812942402"
      },
      "execution_count": 52,
      "outputs": [
        {
          "output_type": "stream",
          "name": "stdout",
          "text": [
            "\n",
            "Matriz 3x4:\n",
            "[[ 1  2  3  4]\n",
            " [ 5  6  7  8]\n",
            " [ 9 10 11 12]]\n",
            "Transpuesta (4x3):\n",
            "[[ 1  5  9]\n",
            " [ 2  6 10]\n",
            " [ 3  7 11]\n",
            " [ 4  8 12]]\n",
            "\n",
            "================================================================================\n",
            "\n"
          ]
        }
      ]
    },
    {
      "cell_type": "markdown",
      "source": [
        "ejercicios 6"
      ],
      "metadata": {
        "id": "oEzIpjgNsYYN"
      }
    },
    {
      "cell_type": "code",
      "source": [
        "# Crear DataFrame con columnas específicas\n",
        "np.random.seed(42)  # Para reproducibilidad\n",
        "nombres = ['Ana', 'Luis', 'María', 'Carlos', 'Elena', 'Pedro', 'Sofia', 'Diego',\n",
        "           'Carmen', 'Antonio', 'Isabel', 'Miguel', 'Rosa', 'Francisco', 'Laura']\n",
        "edades = np.random.randint(18, 65, 15)\n",
        "ciudades = ['Madrid', 'Barcelona', 'Valencia', 'Sevilla', 'Bilbao', 'Zaragoza',\n",
        "           'Málaga', 'Murcia', 'Palma', 'Las Palmas'] * 2\n",
        "ciudades = ciudades[:15]  # Tomar solo 15 ciudades\n",
        "\n",
        "df = pd.DataFrame({\n",
        "    'Nombre': nombres,\n",
        "    'Edad': edades,\n",
        "    'Ciudad': ciudades\n",
        "})\n",
        "\n",
        "print(\"DataFrame creado:\")\n",
        "print(df.head(10))\n",
        "print(f\"\\nTotal de registros: {len(df)}\")"
      ],
      "metadata": {
        "colab": {
          "base_uri": "https://localhost:8080/"
        },
        "id": "1g8L9325sZxP",
        "outputId": "561db7e7-9f5e-4799-cd40-ee8bb0d1a60f"
      },
      "execution_count": 53,
      "outputs": [
        {
          "output_type": "stream",
          "name": "stdout",
          "text": [
            "DataFrame creado:\n",
            "    Nombre  Edad      Ciudad\n",
            "0      Ana    56      Madrid\n",
            "1     Luis    46   Barcelona\n",
            "2    María    32    Valencia\n",
            "3   Carlos    60     Sevilla\n",
            "4    Elena    25      Bilbao\n",
            "5    Pedro    38    Zaragoza\n",
            "6    Sofia    56      Málaga\n",
            "7    Diego    36      Murcia\n",
            "8   Carmen    40       Palma\n",
            "9  Antonio    28  Las Palmas\n",
            "\n",
            "Total de registros: 15\n"
          ]
        }
      ]
    },
    {
      "cell_type": "code",
      "source": [
        "# Filtrar personas con más de 25 años\n",
        "mayores_25 = df[df['Edad'] > 25]\n",
        "print(f\"\\nPersonas mayores de 25 años:\")\n",
        "print(mayores_25)"
      ],
      "metadata": {
        "colab": {
          "base_uri": "https://localhost:8080/"
        },
        "id": "m9R8aTU_scZe",
        "outputId": "c8cebfd3-fddb-459f-a7a1-7c18fb4f2c02"
      },
      "execution_count": 54,
      "outputs": [
        {
          "output_type": "stream",
          "name": "stdout",
          "text": [
            "\n",
            "Personas mayores de 25 años:\n",
            "       Nombre  Edad      Ciudad\n",
            "0         Ana    56      Madrid\n",
            "1        Luis    46   Barcelona\n",
            "2       María    32    Valencia\n",
            "3      Carlos    60     Sevilla\n",
            "5       Pedro    38    Zaragoza\n",
            "6       Sofia    56      Málaga\n",
            "7       Diego    36      Murcia\n",
            "8      Carmen    40       Palma\n",
            "9     Antonio    28  Las Palmas\n",
            "10     Isabel    28      Madrid\n",
            "11     Miguel    41   Barcelona\n",
            "12       Rosa    53    Valencia\n",
            "13  Francisco    57     Sevilla\n",
            "14      Laura    41      Bilbao\n"
          ]
        }
      ]
    },
    {
      "cell_type": "code",
      "source": [
        "# Añadir columna 'Ingresos'\n",
        "df['Ingresos'] = np.random.randint(20000, 80000, len(df))\n",
        "print(f\"\\nDataFrame con columna 'Ingresos':\")\n",
        "print(df.head())"
      ],
      "metadata": {
        "colab": {
          "base_uri": "https://localhost:8080/"
        },
        "id": "Uqn3moJgse1u",
        "outputId": "63e3dc56-8ce2-42a8-d1a0-4eed4746772a"
      },
      "execution_count": 55,
      "outputs": [
        {
          "output_type": "stream",
          "name": "stdout",
          "text": [
            "\n",
            "DataFrame con columna 'Ingresos':\n",
            "   Nombre  Edad     Ciudad  Ingresos\n",
            "0     Ana    56     Madrid     61090\n",
            "1    Luis    46  Barcelona     21685\n",
            "2   María    32   Valencia     20769\n",
            "3  Carlos    60    Sevilla     79735\n",
            "4   Elena    25     Bilbao     76101\n"
          ]
        }
      ]
    },
    {
      "cell_type": "code",
      "source": [
        "# Promedio de edad\n",
        "promedio_edad = df['Edad'].mean()\n",
        "print(f\"\\nPromedio de edad: {promedio_edad:.2f} años\")\n"
      ],
      "metadata": {
        "colab": {
          "base_uri": "https://localhost:8080/"
        },
        "id": "W77xt6PksiL-",
        "outputId": "4820b476-1ea1-4f67-fba0-708f2a5183cf"
      },
      "execution_count": 56,
      "outputs": [
        {
          "output_type": "stream",
          "name": "stdout",
          "text": [
            "\n",
            "Promedio de edad: 42.47 años\n"
          ]
        }
      ]
    },
    {
      "cell_type": "code",
      "source": [
        "# Contar cuántas veces aparece cada ciudad\n",
        "conteo_ciudades = df['Ciudad'].value_counts()\n",
        "print(f\"\\nConteo por ciudad:\")\n",
        "print(conteo_ciudades)"
      ],
      "metadata": {
        "colab": {
          "base_uri": "https://localhost:8080/"
        },
        "id": "kEuRGaIoskr-",
        "outputId": "13b0cdae-923d-477a-8c22-861d7fc768e9"
      },
      "execution_count": 57,
      "outputs": [
        {
          "output_type": "stream",
          "name": "stdout",
          "text": [
            "\n",
            "Conteo por ciudad:\n",
            "Ciudad\n",
            "Madrid        2\n",
            "Barcelona     2\n",
            "Valencia      2\n",
            "Sevilla       2\n",
            "Bilbao        2\n",
            "Zaragoza      1\n",
            "Málaga        1\n",
            "Murcia        1\n",
            "Palma         1\n",
            "Las Palmas    1\n",
            "Name: count, dtype: int64\n"
          ]
        }
      ]
    },
    {
      "cell_type": "code",
      "source": [
        "# Agrupar por ciudad y calcular promedio de edad\n",
        "promedio_edad_ciudad = df.groupby('Ciudad')['Edad'].mean().round(2)\n",
        "print(f\"\\nPromedio de edad por ciudad:\")\n",
        "print(promedio_edad_ciudad)\n"
      ],
      "metadata": {
        "colab": {
          "base_uri": "https://localhost:8080/"
        },
        "id": "5OMNjxZEsm7-",
        "outputId": "d905913e-2d70-4df4-a21c-6a0892b6e444"
      },
      "execution_count": 58,
      "outputs": [
        {
          "output_type": "stream",
          "name": "stdout",
          "text": [
            "\n",
            "Promedio de edad por ciudad:\n",
            "Ciudad\n",
            "Barcelona     43.5\n",
            "Bilbao        33.0\n",
            "Las Palmas    28.0\n",
            "Madrid        42.0\n",
            "Murcia        36.0\n",
            "Málaga        56.0\n",
            "Palma         40.0\n",
            "Sevilla       58.5\n",
            "Valencia      42.5\n",
            "Zaragoza      38.0\n",
            "Name: Edad, dtype: float64\n"
          ]
        }
      ]
    },
    {
      "cell_type": "code",
      "source": [
        "# Ordenar por edad (ascendente y descendente)\n",
        "df_ordenado_asc = df.sort_values('Edad')\n",
        "df_ordenado_desc = df.sort_values('Edad', ascending=False)\n",
        "print(f\"\\nOrdenado por edad (ascendente) - primeros 5:\")\n",
        "print(df_ordenado_asc.head())\n",
        "print(f\"\\nOrdenado por edad (descendente) - primeros 5:\")\n",
        "print(df_ordenado_desc.head())\n",
        "\n",
        "print(\"\\n\" + \"=\"*80 + \"\\n\")"
      ],
      "metadata": {
        "colab": {
          "base_uri": "https://localhost:8080/"
        },
        "id": "OphS3OS0spof",
        "outputId": "7ac0442d-6510-4981-f2d9-88e7fca315dc"
      },
      "execution_count": 59,
      "outputs": [
        {
          "output_type": "stream",
          "name": "stdout",
          "text": [
            "\n",
            "Ordenado por edad (ascendente) - primeros 5:\n",
            "     Nombre  Edad      Ciudad  Ingresos\n",
            "4     Elena    25      Bilbao     76101\n",
            "9   Antonio    28  Las Palmas     37568\n",
            "10   Isabel    28      Madrid     73707\n",
            "2     María    32    Valencia     20769\n",
            "7     Diego    36      Murcia     57819\n",
            "\n",
            "Ordenado por edad (descendente) - primeros 5:\n",
            "       Nombre  Edad    Ciudad  Ingresos\n",
            "3      Carlos    60   Sevilla     79735\n",
            "13  Francisco    57   Sevilla     26396\n",
            "6       Sofia    56    Málaga     25311\n",
            "0         Ana    56    Madrid     61090\n",
            "12       Rosa    53  Valencia     48693\n",
            "\n",
            "================================================================================\n",
            "\n"
          ]
        }
      ]
    },
    {
      "cell_type": "markdown",
      "source": [
        "ejercicio 7"
      ],
      "metadata": {
        "id": "0vnv-OwosrRu"
      }
    },
    {
      "cell_type": "code",
      "source": [
        "from google.colab import files\n",
        "files.download('/content/universidad.csv')"
      ],
      "metadata": {
        "colab": {
          "base_uri": "https://localhost:8080/",
          "height": 17
        },
        "id": "Q1MPJcETssfP",
        "outputId": "d55c677b-d16a-4676-f376-3812bd796c39"
      },
      "execution_count": 62,
      "outputs": [
        {
          "output_type": "display_data",
          "data": {
            "text/plain": [
              "<IPython.core.display.Javascript object>"
            ],
            "application/javascript": [
              "\n",
              "    async function download(id, filename, size) {\n",
              "      if (!google.colab.kernel.accessAllowed) {\n",
              "        return;\n",
              "      }\n",
              "      const div = document.createElement('div');\n",
              "      const label = document.createElement('label');\n",
              "      label.textContent = `Downloading \"${filename}\": `;\n",
              "      div.appendChild(label);\n",
              "      const progress = document.createElement('progress');\n",
              "      progress.max = size;\n",
              "      div.appendChild(progress);\n",
              "      document.body.appendChild(div);\n",
              "\n",
              "      const buffers = [];\n",
              "      let downloaded = 0;\n",
              "\n",
              "      const channel = await google.colab.kernel.comms.open(id);\n",
              "      // Send a message to notify the kernel that we're ready.\n",
              "      channel.send({})\n",
              "\n",
              "      for await (const message of channel.messages) {\n",
              "        // Send a message to notify the kernel that we're ready.\n",
              "        channel.send({})\n",
              "        if (message.buffers) {\n",
              "          for (const buffer of message.buffers) {\n",
              "            buffers.push(buffer);\n",
              "            downloaded += buffer.byteLength;\n",
              "            progress.value = downloaded;\n",
              "          }\n",
              "        }\n",
              "      }\n",
              "      const blob = new Blob(buffers, {type: 'application/binary'});\n",
              "      const a = document.createElement('a');\n",
              "      a.href = window.URL.createObjectURL(blob);\n",
              "      a.download = filename;\n",
              "      div.appendChild(a);\n",
              "      a.click();\n",
              "      div.remove();\n",
              "    }\n",
              "  "
            ]
          },
          "metadata": {}
        },
        {
          "output_type": "display_data",
          "data": {
            "text/plain": [
              "<IPython.core.display.Javascript object>"
            ],
            "application/javascript": [
              "download(\"download_969b6b16-a165-4639-ba41-0a356ccfc209\", \"universidad.csv\", 4228)"
            ]
          },
          "metadata": {}
        }
      ]
    },
    {
      "cell_type": "code",
      "source": [
        "try:\n",
        "    df_universidad = pd.read_csv('/content/universidad.csv', sep=';', encoding='latin1')\n",
        "    print(\" Archivo cargado exitosamente desde /content/universidad.csv\")\n",
        "except FileNotFoundError:\n",
        "    print(\" No se encontró el archivo en /content/universidad.csv\")\n",
        "    print(\"Asegúrate de haber subido el archivo o usar:\")\n",
        "    print(\"from google.colab import files\")\n",
        "    print(\"uploaded = files.upload()\")\n",
        "    # Usar datos de muestra como fallback\n",
        "    datos_universidad = \"\"\"Num Control;Carrera;Semestre;Inscripción;Id Persona\n",
        "SeNeTe01;Lic. en nutriología;7;20/05/2015;1\n",
        "JeViPi02;Ing.química;8;02/05/2015;2\"\"\"\n",
        "    df_universidad = pd.read_csv(StringIO(datos_universidad), sep=';')"
      ],
      "metadata": {
        "colab": {
          "base_uri": "https://localhost:8080/"
        },
        "id": "P-ycf69vtDnO",
        "outputId": "94b6f62f-c7f7-4085-916f-a00250ab98e1"
      },
      "execution_count": 66,
      "outputs": [
        {
          "output_type": "stream",
          "name": "stdout",
          "text": [
            "✅ Archivo cargado exitosamente desde /content/universidad.csv\n"
          ]
        }
      ]
    },
    {
      "cell_type": "code",
      "source": [
        "print(\"\\n1️ ESTUDIANTES DE INGENIERÍA EN SISTEMAS:\")\n",
        "print(\"-\" * 45)\n",
        "ing_sistemas = df_universidad[df_universidad['Carrera'].str.contains('sistemas', case=False, na=False)]\n",
        "print(f\"Cantidad total: {len(ing_sistemas)}\")\n",
        "if len(ing_sistemas) > 0:\n",
        "    print(\"\\nListado completo:\")\n",
        "    print(ing_sistemas[['Num Control', 'Carrera', 'Semestre', 'Inscripci\\x97n']].to_string(index=False))\n",
        "else:\n",
        "    print(\"No se encontraron estudiantes de Ing. en sistemas\")"
      ],
      "metadata": {
        "colab": {
          "base_uri": "https://localhost:8080/"
        },
        "id": "4hCks5u0tpc9",
        "outputId": "98de6e23-333d-485f-c565-4b4ce14d8073"
      },
      "execution_count": 68,
      "outputs": [
        {
          "output_type": "stream",
          "name": "stdout",
          "text": [
            "\n",
            "1️⃣ ESTUDIANTES DE INGENIERÍA EN SISTEMAS:\n",
            "---------------------------------------------\n",
            "Cantidad total: 13\n",
            "\n",
            "Listado completo:\n",
            "Num Control          Carrera  Semestre Inscripcin\n",
            "   WiVaL04 Ing. en sistemas         2  03/12/2016\n",
            "   BePaNa10 Ing. en sistemas         9  15/05/2018\n",
            "   ArLaOc22 Ing. en sistemas         1  17/12/2015\n",
            "   JaSoAy25 Ing. en sistemas         2  21/05/2018\n",
            "   DoAlVi27 Ing. en sistemas         4  16/05/2016\n",
            "   JuNHi32 Ing. en sistemas         4  22/05/2016\n",
            "   TeLaKa46 Ing. en sistemas         4  20/12/2017\n",
            "   ViSaDu56 Ing. en sistemas         1  22/12/2017\n",
            "   LiToVe74 Ing. en sistemas         8  12/12/2015\n",
            "   FrViVa83 Ing. en sistemas         4  12/12/2016\n",
            "   LuçvAl90 Ing. en sistemas         6  19/12/2017\n",
            "   FVaRo92 Ing. en sistemas         6  02/05/2018\n",
            "   ArMuNi94 Ing. en sistemas        10  07/05/2015\n"
          ]
        }
      ]
    },
    {
      "cell_type": "code",
      "source": [
        "# 2. Cuántos son de la carrera de Lic. en derecho\n",
        "print(\"\\n\\n2️ ESTUDIANTES DE LICENCIATURA EN DERECHO:\")\n",
        "print(\"-\" * 45)\n",
        "lic_derecho = df_universidad[df_universidad['Carrera'].str.contains('derecho', case=False, na=False)]\n",
        "print(f\"Cantidad total: {len(lic_derecho)}\")\n",
        "if len(lic_derecho) > 0:\n",
        "    print(\"\\nListado completo:\")\n",
        "    print(lic_derecho[['Num Control', 'Carrera', 'Semestre', 'Inscripci\\x97n']].to_string(index=False))\n",
        "else:\n",
        "    print(\"No se encontraron estudiantes de Lic. en derecho\")"
      ],
      "metadata": {
        "colab": {
          "base_uri": "https://localhost:8080/"
        },
        "id": "cvsjFyx9tzFs",
        "outputId": "f255fbfd-e07d-4df3-9feb-6f77eac61708"
      },
      "execution_count": 70,
      "outputs": [
        {
          "output_type": "stream",
          "name": "stdout",
          "text": [
            "\n",
            "\n",
            "2️⃣ ESTUDIANTES DE LICENCIATURA EN DERECHO:\n",
            "---------------------------------------------\n",
            "Cantidad total: 17\n",
            "\n",
            "Listado completo:\n",
            "Num Control         Carrera  Semestre Inscripcin\n",
            "   MaFeN03 Lic. en derecho         6  09/05/2015\n",
            "   JaAgEs08 Lic. en derecho         7  12/12/2018\n",
            "   RaBeBu13 Lic. en derecho        10  21/05/2017\n",
            "   DeRuTr15 Lic. en derecho         8  25/12/2017\n",
            "   MaGaBe18 Lic. en derecho         1  02/12/2018\n",
            "   AsPoLa26 Lic. en derecho         6  15/05/2016\n",
            "   LiMSa33 Lic. en derecho         5  01/12/2018\n",
            "   çlPrLi34 Lic. en derecho         2  02/05/2017\n",
            "   SeVaSa48 Lic. en derecho         6  09/05/2016\n",
            "   MoVaGa50 Lic. en derecho         7  17/12/2018\n",
            "   AdSaCa51 Lic. en derecho         3  07/12/2015\n",
            "   LaFeVe57 Lic. en derecho         7  16/05/2018\n",
            "   DiQuPa61 Lic. en derecho         9  14/12/2018\n",
            "   FRiLa85 Lic. en derecho         4  28/05/2015\n",
            "   ClArVe86 Lic. en derecho         3  09/05/2017\n",
            "   GeLaVa89 Lic. en derecho         5  25/05/2015\n",
            "   MaRaR97 Lic. en derecho         7  28/12/2016\n"
          ]
        }
      ]
    },
    {
      "cell_type": "code",
      "source": [
        "# 3. Cuántos se inscribieron en el año 2015\n",
        "print(\"\\n\\n3️⃣ ESTUDIANTES INSCRITOS EN 2015:\")\n",
        "print(\"-\" * 35)\n",
        "\n",
        "# Extract the year from the 'Inscripción' column and create a new column\n",
        "df_universidad['Año_Inscripción'] = pd.to_datetime(df_universidad['Inscripci\\x97n'], format='%d/%m/%Y', errors='coerce').dt.year\n",
        "\n",
        "inscritos_2015 = df_universidad[df_universidad['Año_Inscripción'] == 2015]\n",
        "print(f\"Cantidad total: {len(inscritos_2015)}\")\n",
        "if len(inscritos_2015) > 0:\n",
        "    print(\"\\nListado completo:\")\n",
        "    print(inscritos_2015[['Num Control', 'Carrera', 'Semestre', 'Inscripci\\x97n']].to_string(index=False))\n",
        "else:\n",
        "    print(\"No se encontraron estudiantes inscritos en 2015\")"
      ],
      "metadata": {
        "colab": {
          "base_uri": "https://localhost:8080/"
        },
        "id": "sbRv5YnBuCxl",
        "outputId": "d7d928b9-2e96-487f-acb2-f8f524af7e7e"
      },
      "execution_count": 72,
      "outputs": [
        {
          "output_type": "stream",
          "name": "stdout",
          "text": [
            "\n",
            "\n",
            "3️⃣ ESTUDIANTES INSCRITOS EN 2015:\n",
            "-----------------------------------\n",
            "Cantidad total: 23\n",
            "\n",
            "Listado completo:\n",
            "Num Control             Carrera  Semestre Inscripcin\n",
            "   SeNeTe01 Lic. en nutriologa         7  20/05/2015\n",
            "   JeViPi02        Ing.Êqumica         8  02/05/2015\n",
            "   MaFeN03     Lic. en derecho         6  09/05/2015\n",
            "   AlAlEs06        Ing.Êqumica         9  18/12/2015\n",
            "   ClHeAr09 Lic. en nutriologa         4  01/05/2015\n",
            "   ArLaOc22    Ing. en sistemas         1  17/12/2015\n",
            "   AnLuLl28   Lic. en pedagoga         4  13/12/2015\n",
            "   BrCuOc31   Lic. en pedagoga         1  06/05/2015\n",
            "   KlFuVi38    Ing. mecatrnica         9  06/05/2015\n",
            "   GoRuSa45        Ing.Êqumica         8  06/12/2015\n",
            "   AdSaCa51     Lic. en derecho         3  07/12/2015\n",
            "   LiMeAc60 Lic. en nutriologa         3  06/05/2015\n",
            "   PaViLa66        Ing.Êqumica         8  24/05/2015\n",
            "   LiToVe74    Ing. en sistemas         8  12/12/2015\n",
            "   JoSeMa81   Lic. en pedagoga         3  16/12/2015\n",
            "   EvCuBr82 Lic. en nutriologa         7  15/05/2015\n",
            "   FRiLa85     Lic. en derecho         4  28/05/2015\n",
            "   CaVeCr88    Ing. mecatrnica         7  03/12/2015\n",
            "   GeLaVa89     Lic. en derecho         5  25/05/2015\n",
            "   OrVeTr93 Lic. en nutriologa         1  03/05/2015\n",
            "   ArMuNi94    Ing. en sistemas        10  07/05/2015\n",
            "   StPeRu96 Lic. en nutriologa         2  15/12/2015\n",
            "   NiBrPa98    Ing. mecatrnica         8  14/05/2015\n"
          ]
        }
      ]
    }
  ]
}